{
 "cells": [
  {
   "cell_type": "code",
   "execution_count": 19,
   "id": "7e8978f8-a21f-4889-a9cf-b2287f8aa0f3",
   "metadata": {},
   "outputs": [],
   "source": [
    "from pprint import pprint\n",
    "import re \n",
    "import collections "
   ]
  },
  {
   "cell_type": "code",
   "execution_count": 26,
   "id": "9d312e6e-b229-420c-9cdc-7654dac2a39a",
   "metadata": {},
   "outputs": [],
   "source": [
    "# Read the file and convert to a list of strings\n",
    "with open('dataset.txt', 'r') as f:\n",
    "    raw_text = f.read()"
   ]
  },
  {
   "cell_type": "code",
   "execution_count": 27,
   "id": "e8ec8b68-c492-40f6-a756-b140acd9fd06",
   "metadata": {},
   "outputs": [],
   "source": [
    "samples = []\n",
    "for line in raw_text.splitlines():\n",
    "    samples.append(line.strip().split('='))"
   ]
  },
  {
   "cell_type": "code",
   "execution_count": 28,
   "id": "6f8a8eed-6315-49e0-a5df-a5f2f1974c93",
   "metadata": {},
   "outputs": [
    {
     "data": {
      "text/plain": [
       "[['(7-3*z)*(-5*z-9)', '15*z**2-8*z-63'],\n",
       " ['-9*s**2', '-9*s**2'],\n",
       " ['(2-2*n)*(n-1)', '-2*n**2+4*n-2'],\n",
       " ['x**2', 'x**2'],\n",
       " ['(4-x)*(x-23)', '-x**2+27*x-92'],\n",
       " ['(7-5*c)*(3*c-17)', '-15*c**2+106*c-119'],\n",
       " ['-8*x*(3*x+14)', '-24*x**2-112*x'],\n",
       " ['-2*k*(5*k-9)', '-10*k**2+18*k'],\n",
       " ['(3*cos(c)-19)*(7*cos(c)+13)', '21*cos(c)**2-94*cos(c)-247'],\n",
       " ['-8*j*(-8*j-3)', '64*j**2+24*j']]"
      ]
     },
     "execution_count": 28,
     "metadata": {},
     "output_type": "execute_result"
    }
   ],
   "source": [
    "samples[:10]"
   ]
  },
  {
   "cell_type": "code",
   "execution_count": 6,
   "id": "4502f260-bc70-4726-8ea5-306ea1e06386",
   "metadata": {},
   "outputs": [
    {
     "data": {
      "text/plain": [
       "1000000"
      ]
     },
     "execution_count": 6,
     "metadata": {},
     "output_type": "execute_result"
    }
   ],
   "source": [
    "len(samples)"
   ]
  },
  {
   "cell_type": "code",
   "execution_count": 10,
   "id": "d81090d4-1a79-4b71-bf63-b7dd89da97af",
   "metadata": {},
   "outputs": [
    {
     "data": {
      "text/plain": [
       "29"
      ]
     },
     "execution_count": 10,
     "metadata": {},
     "output_type": "execute_result"
    }
   ],
   "source": [
    "# max input length \n",
    "max(list(map(lambda x: len(x[0]), samples)))"
   ]
  },
  {
   "cell_type": "code",
   "execution_count": 11,
   "id": "f96de4ca-0292-4633-b877-5765be223ca7",
   "metadata": {},
   "outputs": [
    {
     "data": {
      "text/plain": [
       "28"
      ]
     },
     "execution_count": 11,
     "metadata": {},
     "output_type": "execute_result"
    }
   ],
   "source": [
    "# max output length \n",
    "max(list(map(lambda x: len(x[1]), samples)))"
   ]
  },
  {
   "cell_type": "code",
   "execution_count": 12,
   "id": "bc2fcdd1-8c3a-4f07-bc32-89ebb3ce4dc9",
   "metadata": {},
   "outputs": [],
   "source": [
    "vocab = dict()\n",
    "for line in raw_text:\n",
    "    for char in line.strip():\n",
    "        if char not in vocab:\n",
    "            vocab[char] = 0\n",
    "        vocab[char] += 1"
   ]
  },
  {
   "cell_type": "code",
   "execution_count": 14,
   "id": "ab8be7d4-4b1c-4844-8af3-b17feee13d05",
   "metadata": {},
   "outputs": [
    {
     "name": "stdout",
     "output_type": "stream",
     "text": [
      "{'(': 1717013,\n",
      " ')': 1717013,\n",
      " '*': 6296348,\n",
      " '+': 1249605,\n",
      " '-': 2932951,\n",
      " '0': 621755,\n",
      " '1': 1551639,\n",
      " '2': 2739472,\n",
      " '3': 950998,\n",
      " '4': 952516,\n",
      " '5': 803947,\n",
      " '6': 854153,\n",
      " '7': 646955,\n",
      " '8': 799495,\n",
      " '9': 500412,\n",
      " '=': 1000000,\n",
      " 'a': 284688,\n",
      " 'c': 284521,\n",
      " 'h': 244132,\n",
      " 'i': 528183,\n",
      " 'j': 244094,\n",
      " 'k': 245042,\n",
      " 'n': 566389,\n",
      " 'o': 283088,\n",
      " 's': 568438,\n",
      " 't': 285215,\n",
      " 'x': 243916,\n",
      " 'y': 246024,\n",
      " 'z': 245599}\n"
     ]
    }
   ],
   "source": [
    "pprint(vocab)"
   ]
  },
  {
   "cell_type": "code",
   "execution_count": 16,
   "id": "e3f2ae50-1c2f-47fe-94f5-5c142ef3d95b",
   "metadata": {},
   "outputs": [
    {
     "data": {
      "text/plain": [
       "29"
      ]
     },
     "execution_count": 16,
     "metadata": {},
     "output_type": "execute_result"
    }
   ],
   "source": [
    "len(vocab)"
   ]
  },
  {
   "cell_type": "code",
   "execution_count": 17,
   "id": "90904684-2399-4951-92f6-d56acad495c4",
   "metadata": {},
   "outputs": [],
   "source": [
    "# Find the frequency of common patterns in the dataset (sin, cos etc.)\n",
    "def freq(pattern, s):\n",
    "    return collections.Counter(re.findall(pattern, s)).most_common()"
   ]
  },
  {
   "cell_type": "code",
   "execution_count": 29,
   "id": "b01c78ae-659a-47c1-89f6-f7d0e4300219",
   "metadata": {},
   "outputs": [
    {
     "data": {
      "text/plain": [
       "[('*', 6296348),\n",
       " ('-', 2932951),\n",
       " ('2', 2739472),\n",
       " ('(', 1717013),\n",
       " (')', 1717013),\n",
       " ('1', 1551639),\n",
       " ('+', 1249605),\n",
       " ('=', 1000000),\n",
       " ('4', 952516),\n",
       " ('3', 950998),\n",
       " ('6', 854153),\n",
       " ('5', 803947),\n",
       " ('8', 799495),\n",
       " ('7', 646955),\n",
       " ('0', 621755),\n",
       " ('s', 568438),\n",
       " ('n', 566389),\n",
       " ('i', 528183),\n",
       " ('9', 500412),\n",
       " ('t', 285215),\n",
       " ('a', 284688),\n",
       " ('c', 284521),\n",
       " ('o', 283088),\n",
       " ('y', 246024),\n",
       " ('z', 245599),\n",
       " ('k', 245042),\n",
       " ('h', 244132),\n",
       " ('j', 244094),\n",
       " ('x', 243916)]"
      ]
     },
     "execution_count": 29,
     "metadata": {},
     "output_type": "execute_result"
    }
   ],
   "source": [
    "freq(\".\", raw_text)"
   ]
  },
  {
   "cell_type": "markdown",
   "id": "3f362f7a-0098-4b53-8b2c-d60b0ba9a43c",
   "metadata": {},
   "source": [
    "### All tokens \n",
    "- **digits:** `0, 1, 2, 3, 4, 5, 6, 7, 8, 9`\n",
    "- **variables:** `a, c, h, i, j, k, n, o, s, t, x, y, z`\n",
    "- **parentheses:** `(, )`\n",
    "- **math operators:** `*, **, +, -`\n",
    "- **trig functions:** `sin, cos, tan`\n"
   ]
  },
  {
   "cell_type": "code",
   "execution_count": 30,
   "id": "51f5e183-aeb9-4b8f-8a93-7d2327084f1d",
   "metadata": {},
   "outputs": [
    {
     "data": {
      "text/plain": [
       "[('*', 4214642),\n",
       " ('-', 2932951),\n",
       " ('2', 2739472),\n",
       " ('(', 1717013),\n",
       " (')', 1717013),\n",
       " ('1', 1551639),\n",
       " ('+', 1249605),\n",
       " ('**', 1040853),\n",
       " ('4', 952516),\n",
       " ('3', 950998),\n",
       " ('6', 854153),\n",
       " ('5', 803947),\n",
       " ('8', 799495),\n",
       " ('7', 646955),\n",
       " ('0', 621755),\n",
       " ('9', 500412),\n",
       " ('s', 489862),\n",
       " ('i', 488935),\n",
       " ('n', 487884),\n",
       " ('y', 246024),\n",
       " ('t', 245958),\n",
       " ('z', 245599),\n",
       " ('a', 245431),\n",
       " ('c', 245193),\n",
       " ('k', 245042),\n",
       " ('h', 244132),\n",
       " ('j', 244094),\n",
       " ('x', 243916),\n",
       " ('o', 243760),\n",
       " ('cos', 39328),\n",
       " ('tan', 39257),\n",
       " ('sin', 39248)]"
      ]
     },
     "execution_count": 30,
     "metadata": {},
     "output_type": "execute_result"
    }
   ],
   "source": [
    "vocab_pattern = \"sin|cos|tan|\\d|\\w|\\(|\\)|\\+|-|\\*+\"\n",
    "freq(vocab_pattern, raw_text)"
   ]
  },
  {
   "cell_type": "code",
   "execution_count": 31,
   "id": "e65d83ff-b471-4aee-84c3-15c382a9089e",
   "metadata": {},
   "outputs": [],
   "source": [
    "# Need to create a vocabulary for all these tokens. "
   ]
  }
 ],
 "metadata": {
  "kernelspec": {
   "display_name": "Python 3 (ipykernel)",
   "language": "python",
   "name": "python3"
  },
  "language_info": {
   "codemirror_mode": {
    "name": "ipython",
    "version": 3
   },
   "file_extension": ".py",
   "mimetype": "text/x-python",
   "name": "python",
   "nbconvert_exporter": "python",
   "pygments_lexer": "ipython3",
   "version": "3.8.0"
  }
 },
 "nbformat": 4,
 "nbformat_minor": 5
}
